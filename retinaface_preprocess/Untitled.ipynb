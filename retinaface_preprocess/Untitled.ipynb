{
 "cells": [
  {
   "cell_type": "code",
   "execution_count": 1,
   "id": "aad20566",
   "metadata": {},
   "outputs": [
    {
     "ename": "TypeError",
     "evalue": "\"DataNode\" is a symbolic representation of TensorList used for defining graph of operations for DALI Pipeline. It should not be used for truth evaluation in regular Python context. Bool conversion in Pipeline can be achieved with \"Cast\" operator. To see what operations are allowed on DataNodes to represent computations in DALI Pipeline see the \"Mathematical Expressions\" section of DALI documentation.",
     "output_type": "error",
     "traceback": [
      "\u001b[0;31m---------------------------------------------------------------------------\u001b[0m",
      "\u001b[0;31mTypeError\u001b[0m                                 Traceback (most recent call last)",
      "\u001b[0;32m<ipython-input-1-11c22a0a8251>\u001b[0m in \u001b[0;36m<module>\u001b[0;34m\u001b[0m\n\u001b[1;32m     18\u001b[0m         \u001b[0morigin_w\u001b[0m \u001b[0;34m=\u001b[0m \u001b[0mdali\u001b[0m\u001b[0;34m.\u001b[0m\u001b[0mfn\u001b[0m\u001b[0;34m.\u001b[0m\u001b[0mslice\u001b[0m\u001b[0;34m(\u001b[0m\u001b[0mshapes\u001b[0m\u001b[0;34m,\u001b[0m \u001b[0;36m1\u001b[0m\u001b[0;34m,\u001b[0m \u001b[0;36m1\u001b[0m\u001b[0;34m,\u001b[0m \u001b[0maxes\u001b[0m\u001b[0;34m=\u001b[0m\u001b[0;34m[\u001b[0m\u001b[0;36m0\u001b[0m\u001b[0;34m]\u001b[0m\u001b[0;34m)\u001b[0m  \u001b[0;31m# extract width\u001b[0m\u001b[0;34m\u001b[0m\u001b[0;34m\u001b[0m\u001b[0m\n\u001b[1;32m     19\u001b[0m         \u001b[0morigin_h\u001b[0m \u001b[0;34m=\u001b[0m \u001b[0mdali\u001b[0m\u001b[0;34m.\u001b[0m\u001b[0mfn\u001b[0m\u001b[0;34m.\u001b[0m\u001b[0mslice\u001b[0m\u001b[0;34m(\u001b[0m\u001b[0mshapes\u001b[0m\u001b[0;34m,\u001b[0m \u001b[0;36m0\u001b[0m\u001b[0;34m,\u001b[0m \u001b[0;36m1\u001b[0m\u001b[0;34m,\u001b[0m \u001b[0maxes\u001b[0m\u001b[0;34m=\u001b[0m\u001b[0;34m[\u001b[0m\u001b[0;36m0\u001b[0m\u001b[0;34m]\u001b[0m\u001b[0;34m)\u001b[0m  \u001b[0;31m# extract height\u001b[0m\u001b[0;34m\u001b[0m\u001b[0;34m\u001b[0m\u001b[0m\n\u001b[0;32m---> 20\u001b[0;31m         \u001b[0mscale_factors\u001b[0m \u001b[0;34m=\u001b[0m \u001b[0mmin\u001b[0m\u001b[0;34m(\u001b[0m\u001b[0mwidth\u001b[0m \u001b[0;34m/\u001b[0m \u001b[0morigin_w\u001b[0m\u001b[0;34m,\u001b[0m \u001b[0mheight\u001b[0m \u001b[0;34m/\u001b[0m \u001b[0morigin_h\u001b[0m\u001b[0;34m)\u001b[0m\u001b[0;34m\u001b[0m\u001b[0;34m\u001b[0m\u001b[0m\n\u001b[0m\u001b[1;32m     21\u001b[0m \u001b[0;34m\u001b[0m\u001b[0m\n\u001b[1;32m     22\u001b[0m         \u001b[0mimages\u001b[0m \u001b[0;34m=\u001b[0m \u001b[0mdali\u001b[0m\u001b[0;34m.\u001b[0m\u001b[0mfn\u001b[0m\u001b[0;34m.\u001b[0m\u001b[0mresize\u001b[0m\u001b[0;34m(\u001b[0m\u001b[0mimages\u001b[0m\u001b[0;34m,\u001b[0m \u001b[0msize\u001b[0m\u001b[0;34m=\u001b[0m\u001b[0;34m[\u001b[0m\u001b[0mheight\u001b[0m\u001b[0;34m,\u001b[0m \u001b[0mwidth\u001b[0m\u001b[0;34m]\u001b[0m\u001b[0;34m,\u001b[0m \u001b[0mmode\u001b[0m\u001b[0;34m=\u001b[0m\u001b[0;34m'not_larger'\u001b[0m\u001b[0;34m)\u001b[0m\u001b[0;34m\u001b[0m\u001b[0;34m\u001b[0m\u001b[0m\n",
      "\u001b[0;32m/usr/local/lib/python3.8/dist-packages/nvidia/dali/data_node.py\u001b[0m in \u001b[0;36m__bool__\u001b[0;34m(self)\u001b[0m\n\u001b[1;32m    116\u001b[0m \u001b[0;34m\u001b[0m\u001b[0m\n\u001b[1;32m    117\u001b[0m     \u001b[0;32mdef\u001b[0m \u001b[0m__bool__\u001b[0m\u001b[0;34m(\u001b[0m\u001b[0mself\u001b[0m\u001b[0;34m)\u001b[0m\u001b[0;34m:\u001b[0m\u001b[0;34m\u001b[0m\u001b[0;34m\u001b[0m\u001b[0m\n\u001b[0;32m--> 118\u001b[0;31m         raise TypeError((\"\\\"DataNode\\\" is a symbolic representation of TensorList used for defining\"\n\u001b[0m\u001b[1;32m    119\u001b[0m                 \u001b[0;34m\" graph of operations for DALI Pipeline. It should not be used for truth evaluation\"\u001b[0m\u001b[0;34m\u001b[0m\u001b[0;34m\u001b[0m\u001b[0m\n\u001b[1;32m    120\u001b[0m                 \u001b[0;34m\" in regular Python context. Bool conversion in Pipeline can be achieved\"\u001b[0m\u001b[0;34m\u001b[0m\u001b[0;34m\u001b[0m\u001b[0m\n",
      "\u001b[0;31mTypeError\u001b[0m: \"DataNode\" is a symbolic representation of TensorList used for defining graph of operations for DALI Pipeline. It should not be used for truth evaluation in regular Python context. Bool conversion in Pipeline can be achieved with \"Cast\" operator. To see what operations are allowed on DataNodes to represent computations in DALI Pipeline see the \"Mathematical Expressions\" section of DALI documentation."
     ]
    }
   ],
   "source": [
    "import nvidia.dali as dali\n",
    "import nvidia.dali.types as types\n",
    "import os\n",
    "import argparse\n",
    "\n",
    "if __name__ == \"__main__\":\n",
    "    \n",
    "    width = 640\n",
    "    height = 480\n",
    "    pipe = dali.pipeline.Pipeline(batch_size=256, num_threads=4, device_id=0)\n",
    "    with pipe:\n",
    "        images = dali.fn.external_source(device=\"gpu\", name=\"DALI_INPUT_0\")\n",
    "\n",
    "        # skip to decode image from file\n",
    "        # images = dali.fn.image_decoder(images, device=\"cpu\", output_type=types.RGB)\n",
    "#         shapes = dali.fn.cast(dali.fn.peek_image_shape(images), dtype=dali.types.FLOAT)  # shape is HWC\n",
    "        shapes = dali.fn.shapes(images, dtype=types.INT64)\n",
    "        origin_w = dali.fn.slice(shapes, 1, 1, axes=[0])  # extract width\n",
    "        origin_h = dali.fn.slice(shapes, 0, 1, axes=[0])  # extract height\n",
    "        scale_factors = min(width / origin_w, height / origin_h)\n",
    "        \n",
    "        images = dali.fn.resize(images, size=[height, width], mode='not_larger')\n",
    "        images = dali.fn.crop(images, crop_w=width, crop_h=height, out_of_bounds_policy=\"pad\")\n",
    "        images = dali.fn.cast(images, dtype=types.FLOAT)\n",
    "        images = dali.fn.transpose(images, perm=[2, 0, 1])\n",
    "        pipe.set_outputs(images, scale_factors)\n",
    "        pipe.serialize(filename=\"model.dali\")\n",
    "\n",
    "    print(\"Saved {}\".format(\"/model.dali\"))"
   ]
  },
  {
   "cell_type": "code",
   "execution_count": null,
   "id": "d8da1df2",
   "metadata": {},
   "outputs": [],
   "source": []
  }
 ],
 "metadata": {
  "kernelspec": {
   "display_name": "Python 3",
   "language": "python",
   "name": "python3"
  },
  "language_info": {
   "codemirror_mode": {
    "name": "ipython",
    "version": 3
   },
   "file_extension": ".py",
   "mimetype": "text/x-python",
   "name": "python",
   "nbconvert_exporter": "python",
   "pygments_lexer": "ipython3",
   "version": "3.8.5"
  }
 },
 "nbformat": 4,
 "nbformat_minor": 5
}
